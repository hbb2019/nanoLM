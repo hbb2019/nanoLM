{
  "nbformat": 4,
  "nbformat_minor": 0,
  "metadata": {
    "colab": {
      "provenance": [],
      "authorship_tag": "ABX9TyP5kd+Dwif9goj31l3n2a8G",
      "include_colab_link": true
    },
    "kernelspec": {
      "name": "python3",
      "display_name": "Python 3"
    },
    "language_info": {
      "name": "python"
    }
  },
  "cells": [
    {
      "cell_type": "markdown",
      "metadata": {
        "id": "view-in-github",
        "colab_type": "text"
      },
      "source": [
        "<a href=\"https://colab.research.google.com/github/hbb2019/nanoLM/blob/main/Untitled0.ipynb\" target=\"_parent\"><img src=\"https://colab.research.google.com/assets/colab-badge.svg\" alt=\"Open In Colab\"/></a>"
      ]
    },
    {
      "cell_type": "code",
      "execution_count": null,
      "metadata": {
        "id": "nKTjC3kXKAOx"
      },
      "outputs": [],
      "source": [
        "# !pip install pyarrow\n",
        "# !pip install datetime"
      ]
    },
    {
      "cell_type": "code",
      "source": [
        "from google.colab import drive\n",
        "drive.mount('/content/drive')"
      ],
      "metadata": {
        "colab": {
          "base_uri": "https://localhost:8080/"
        },
        "id": "TeIfXyByKYky",
        "outputId": "67e62dcc-6ce8-482b-8aca-37831feecb41"
      },
      "execution_count": null,
      "outputs": [
        {
          "output_type": "stream",
          "name": "stdout",
          "text": [
            "Mounted at /content/drive\n"
          ]
        }
      ]
    },
    {
      "cell_type": "code",
      "source": [
        "import pandas as pd"
      ],
      "metadata": {
        "id": "yEEkN36_KoGh"
      },
      "execution_count": null,
      "outputs": []
    },
    {
      "cell_type": "code",
      "source": [
        "file_path = '/content/drive/My Drive/BAAI/train-00000-of-00015.parquet'"
      ],
      "metadata": {
        "id": "B_o2ljV7Kvln"
      },
      "execution_count": null,
      "outputs": []
    },
    {
      "cell_type": "code",
      "source": [
        "df = pd.read_parquet(file_path)"
      ],
      "metadata": {
        "id": "y7ZoYACCK_Xt"
      },
      "execution_count": null,
      "outputs": []
    },
    {
      "cell_type": "code",
      "source": [
        "print(f'行数:{df.shape[0]}')\n",
        "print(f'列数:{df.shape[1]}')"
      ],
      "metadata": {
        "colab": {
          "base_uri": "https://localhost:8080/"
        },
        "id": "7spmgHcQOk2_",
        "outputId": "bad896ef-5f3b-4a5a-da54-0ba16153f656"
      },
      "execution_count": null,
      "outputs": [
        {
          "output_type": "stream",
          "name": "stdout",
          "text": [
            "行数:100000\n",
            "列数:6\n"
          ]
        }
      ]
    },
    {
      "cell_type": "code",
      "source": [
        "df.iloc[1]"
      ],
      "metadata": {
        "colab": {
          "base_uri": "https://localhost:8080/",
          "height": 272
        },
        "id": "Nx9cys0ZNTUF",
        "outputId": "a425ed5c-4c32-4d75-bb81-d830ba6578e5"
      },
      "execution_count": null,
      "outputs": [
        {
          "output_type": "execute_result",
          "data": {
            "text/plain": [
              "id                                e90e5da60b3202c46222f752a54204de\n",
              "source                                                  Subjective\n",
              "langdetect                                                      en\n",
              "label            {'ability_en': ['game design', 'rule design', ...\n",
              "conversations    [{'from': 'human', 'value': 'In a city generat...\n",
              "reward                                                       55.25\n",
              "Name: 1, dtype: object"
            ],
            "text/html": [
              "<div>\n",
              "<style scoped>\n",
              "    .dataframe tbody tr th:only-of-type {\n",
              "        vertical-align: middle;\n",
              "    }\n",
              "\n",
              "    .dataframe tbody tr th {\n",
              "        vertical-align: top;\n",
              "    }\n",
              "\n",
              "    .dataframe thead th {\n",
              "        text-align: right;\n",
              "    }\n",
              "</style>\n",
              "<table border=\"1\" class=\"dataframe\">\n",
              "  <thead>\n",
              "    <tr style=\"text-align: right;\">\n",
              "      <th></th>\n",
              "      <th>1</th>\n",
              "    </tr>\n",
              "  </thead>\n",
              "  <tbody>\n",
              "    <tr>\n",
              "      <th>id</th>\n",
              "      <td>e90e5da60b3202c46222f752a54204de</td>\n",
              "    </tr>\n",
              "    <tr>\n",
              "      <th>source</th>\n",
              "      <td>Subjective</td>\n",
              "    </tr>\n",
              "    <tr>\n",
              "      <th>langdetect</th>\n",
              "      <td>en</td>\n",
              "    </tr>\n",
              "    <tr>\n",
              "      <th>label</th>\n",
              "      <td>{'ability_en': ['game design', 'rule design', ...</td>\n",
              "    </tr>\n",
              "    <tr>\n",
              "      <th>conversations</th>\n",
              "      <td>[{'from': 'human', 'value': 'In a city generat...</td>\n",
              "    </tr>\n",
              "    <tr>\n",
              "      <th>reward</th>\n",
              "      <td>55.25</td>\n",
              "    </tr>\n",
              "  </tbody>\n",
              "</table>\n",
              "</div><br><label><b>dtype:</b> object</label>"
            ]
          },
          "metadata": {},
          "execution_count": 19
        }
      ]
    },
    {
      "cell_type": "code",
      "source": [
        "df.iloc[5]['label']"
      ],
      "metadata": {
        "colab": {
          "base_uri": "https://localhost:8080/"
        },
        "id": "-QhGC8yVNjbD",
        "outputId": "63f2552f-069f-41d6-982b-f5b56e2e3334"
      },
      "execution_count": null,
      "outputs": [
        {
          "output_type": "execute_result",
          "data": {
            "text/plain": [
              "{'ability_en': array(['tax knowledge', 'computing ability', 'write a report'],\n",
              "       dtype=object),\n",
              " 'ability_zh': array(['税务知识', '计算能力', '写报告'], dtype=object),\n",
              " 'cate_ability_en': array(['financial, financial and business knowledge',\n",
              "        'mathematical ability', 'analysis and research'], dtype=object),\n",
              " 'cate_ability_zh': array(['财务、金融与商业知识', '数学能力', '分析与研究'], dtype=object)}"
            ]
          },
          "metadata": {},
          "execution_count": 27
        }
      ]
    },
    {
      "cell_type": "code",
      "source": [
        "label_dict = df.iloc[5]['label']\n",
        "cate_ability_zh_list = label_dict['cate_ability_zh']\n",
        "print(cate_ability_zh_list)"
      ],
      "metadata": {
        "colab": {
          "base_uri": "https://localhost:8080/"
        },
        "id": "nAixsa8KOEW_",
        "outputId": "37703320-7f3b-448c-af16-3023d9cd041a"
      },
      "execution_count": null,
      "outputs": [
        {
          "output_type": "stream",
          "name": "stdout",
          "text": [
            "['财务、金融与商业知识' '数学能力' '分析与研究']\n"
          ]
        }
      ]
    },
    {
      "cell_type": "code",
      "source": [
        "# 提取所有行的 cate_ability_zh 列表，形成 [[], [], []] 结构\n",
        "cate_ability_zh_lists = df['label'].apply(lambda x: x['cate_ability_zh']).tolist()"
      ],
      "metadata": {
        "colab": {
          "base_uri": "https://localhost:8080/"
        },
        "id": "rRsgrfADQGQ3",
        "outputId": "861e290d-2128-4c48-e400-de6fbda05e8e"
      },
      "execution_count": null,
      "outputs": [
        {
          "output_type": "stream",
          "name": "stdout",
          "text": [
            "[array(['数据科学与分析', '数学能力', '问题解答与支持'], dtype=object), array(['创意与设计'], dtype=object), array(['编程与软件开发'], dtype=object)]\n"
          ]
        }
      ]
    },
    {
      "cell_type": "code",
      "source": [
        "cate_ability_segment = cate_ability_zh_lists[:10]\n",
        "for item in cate_ability_segment:\n",
        "    print(item)"
      ],
      "metadata": {
        "colab": {
          "base_uri": "https://localhost:8080/"
        },
        "id": "QV342eHFQdgz",
        "outputId": "59ae817d-23c0-4833-c51a-7086dda0bff8"
      },
      "execution_count": null,
      "outputs": [
        {
          "output_type": "stream",
          "name": "stdout",
          "text": [
            "['数据科学与分析' '数学能力' '问题解答与支持']\n",
            "['创意与设计']\n",
            "['编程与软件开发']\n",
            "['创意与设计' '数据科学与分析']\n",
            "['编程与软件开发' '问题解答与支持']\n",
            "['财务、金融与商业知识' '数学能力' '分析与研究']\n",
            "['数学能力']\n",
            "['编程与软件开发' '问题解答与支持']\n",
            "['编程与软件开发' '数学能力' '问题解答与支持']\n",
            "['问题解答与支持']\n"
          ]
        }
      ]
    },
    {
      "cell_type": "code",
      "source": [
        "cate_ability_zh_lists = [list(item) for item in cate_ability_zh_lists]\n",
        "flattened_list = [item for sublist in cate_ability_zh_lists for item in sublist]\n",
        "unique_elements = set(flattened_list)\n",
        "unique_count = len(unique_elements)\n",
        "unique_elements = set(flattened_list)\n",
        "print(\"不同元素的数量:\", unique_count)"
      ],
      "metadata": {
        "colab": {
          "base_uri": "https://localhost:8080/"
        },
        "id": "LEgmg5bnRXNT",
        "outputId": "bec5a5b1-81ab-4631-b23c-bb16021dcf16"
      },
      "execution_count": null,
      "outputs": [
        {
          "output_type": "stream",
          "name": "stdout",
          "text": [
            "不同元素的数量: 26\n"
          ]
        }
      ]
    },
    {
      "cell_type": "code",
      "source": [
        "list_unique_elements = list(unique_elements)\n",
        "for item in list_unique_elements:\n",
        "    print(item)"
      ],
      "metadata": {
        "colab": {
          "base_uri": "https://localhost:8080/"
        },
        "id": "Ez-KDSwJRyIe",
        "outputId": "e48c44f6-e3ab-4fc2-8515-d4cc0c5b8ea5"
      },
      "execution_count": null,
      "outputs": [
        {
          "output_type": "stream",
          "name": "stdout",
          "text": [
            "数据科学与分析\n",
            "语言学知识、多语言与多元文化理解\n",
            "财务、金融与商业知识\n",
            "编程与软件开发\n",
            "开放任务完成\n",
            "医学、药学与健康知识\n",
            "问题解答与支持\n",
            "文学创作与艺术知识\n",
            "任务生成\n",
            "STEM知识\n",
            "心理学知识\n",
            "自然语言处理与理解\n",
            "教育与咨询\n",
            "创意与设计\n",
            "生活知识与技能\n",
            "人文历史哲学与社会学知识\n",
            "数学能力\n",
            "信息处理与整合\n",
            "法律知识\n",
            "政治、军事战略与安全知识\n",
            "法律与安全知识\n",
            "分析与研究\n",
            "开放知识问答\n",
            "沟通与社交媒体\n",
            "逻辑与推理\n",
            "项目与任务管理\n"
          ]
        }
      ]
    },
    {
      "cell_type": "code",
      "source": [
        "# 提取 cate_ability_zh 的第一个元素，添加到新列 subject_label\n",
        "df['subject_label'] = df['label'].apply(lambda x: list(x['cate_ability_zh'])[0] if x['cate_ability_zh'].size > 0 else None)\n",
        "\n",
        "# 打印前几行以确认\n",
        "print(df[['label', 'subject_label']].head())"
      ],
      "metadata": {
        "colab": {
          "base_uri": "https://localhost:8080/"
        },
        "id": "LcEOON92TOCo",
        "outputId": "e0235393-d421-40f9-ef5f-a0d2ea3124c9"
      },
      "execution_count": null,
      "outputs": [
        {
          "output_type": "stream",
          "name": "stdout",
          "text": [
            "                                               label subject_label\n",
            "0  {'ability_en': ['problem solved', 'data proces...       数据科学与分析\n",
            "1  {'ability_en': ['game design', 'rule design', ...         创意与设计\n",
            "2  {'ability_en': ['programming ability', 'techni...       编程与软件开发\n",
            "3  {'ability_en': ['plot advancement', 'narrative...         创意与设计\n",
            "4  {'ability_en': ['programming ability', 'algori...       编程与软件开发\n"
          ]
        }
      ]
    },
    {
      "cell_type": "code",
      "source": [
        "df.iloc[1]"
      ],
      "metadata": {
        "colab": {
          "base_uri": "https://localhost:8080/",
          "height": 303
        },
        "id": "xIv7OUjATZtQ",
        "outputId": "8b3aee12-7a56-4889-9a96-d3d9ee22b294"
      },
      "execution_count": null,
      "outputs": [
        {
          "output_type": "execute_result",
          "data": {
            "text/plain": [
              "id                                e90e5da60b3202c46222f752a54204de\n",
              "source                                                  Subjective\n",
              "langdetect                                                      en\n",
              "label            {'ability_en': ['game design', 'rule design', ...\n",
              "conversations    [{'from': 'human', 'value': 'In a city generat...\n",
              "reward                                                       55.25\n",
              "subject_label                                                创意与设计\n",
              "Name: 1, dtype: object"
            ],
            "text/html": [
              "<div>\n",
              "<style scoped>\n",
              "    .dataframe tbody tr th:only-of-type {\n",
              "        vertical-align: middle;\n",
              "    }\n",
              "\n",
              "    .dataframe tbody tr th {\n",
              "        vertical-align: top;\n",
              "    }\n",
              "\n",
              "    .dataframe thead th {\n",
              "        text-align: right;\n",
              "    }\n",
              "</style>\n",
              "<table border=\"1\" class=\"dataframe\">\n",
              "  <thead>\n",
              "    <tr style=\"text-align: right;\">\n",
              "      <th></th>\n",
              "      <th>1</th>\n",
              "    </tr>\n",
              "  </thead>\n",
              "  <tbody>\n",
              "    <tr>\n",
              "      <th>id</th>\n",
              "      <td>e90e5da60b3202c46222f752a54204de</td>\n",
              "    </tr>\n",
              "    <tr>\n",
              "      <th>source</th>\n",
              "      <td>Subjective</td>\n",
              "    </tr>\n",
              "    <tr>\n",
              "      <th>langdetect</th>\n",
              "      <td>en</td>\n",
              "    </tr>\n",
              "    <tr>\n",
              "      <th>label</th>\n",
              "      <td>{'ability_en': ['game design', 'rule design', ...</td>\n",
              "    </tr>\n",
              "    <tr>\n",
              "      <th>conversations</th>\n",
              "      <td>[{'from': 'human', 'value': 'In a city generat...</td>\n",
              "    </tr>\n",
              "    <tr>\n",
              "      <th>reward</th>\n",
              "      <td>55.25</td>\n",
              "    </tr>\n",
              "    <tr>\n",
              "      <th>subject_label</th>\n",
              "      <td>创意与设计</td>\n",
              "    </tr>\n",
              "  </tbody>\n",
              "</table>\n",
              "</div><br><label><b>dtype:</b> object</label>"
            ]
          },
          "metadata": {},
          "execution_count": 38
        }
      ]
    },
    {
      "cell_type": "code",
      "source": [
        "import datetime"
      ],
      "metadata": {
        "id": "Fir_w2sqXD5h"
      },
      "execution_count": null,
      "outputs": []
    },
    {
      "cell_type": "code",
      "source": [
        "from datetime import datetime\n",
        "import os\n",
        "\n",
        "# 构造新文件名（添加日期）\n",
        "# 获取当前日期（2025-04-22）\n",
        "current_date = datetime(2025, 4, 22).strftime('%Y-%m-%d')  # 格式化为 '2025-04-22'\n",
        "\n",
        "# 提取文件夹路径和原始文件名\n",
        "folder_path = os.path.dirname(file_path)  # '/content/drive/My Drive/BAAI'\n",
        "file_name = os.path.basename(file_path)   # 'train-00000-of-00015.parquet'\n",
        "\n",
        "# 分割文件名和扩展名\n",
        "file_name_base, file_extension = os.path.splitext(file_name)  # 'train-00000-of-00015', '.parquet'\n",
        "\n",
        "# 构造新文件名\n",
        "new_file_name = f\"{file_name_base}_{current_date}{file_extension}\"  # 'train-00000-of-00015_2025-04-22.parquet'\n",
        "\n",
        "# 构造新文件的完整路径\n",
        "new_file_path = os.path.join(folder_path, new_file_name)  # '/content/drive/My Drive/BAAI/train-00000-of-00015_2025-04-22.parquet'\n",
        "\n",
        "# 步骤 3：保存 DataFrame 到新文件\n",
        "df.to_parquet(new_file_path, index=False)\n",
        "\n",
        "# 打印确认\n",
        "print(f\"文件已保存到: {new_file_path}\")"
      ],
      "metadata": {
        "colab": {
          "base_uri": "https://localhost:8080/"
        },
        "id": "HN0UeBYxWy1n",
        "outputId": "9cca0570-a6f1-407a-f98c-5de683a5d7c3"
      },
      "execution_count": null,
      "outputs": [
        {
          "output_type": "stream",
          "name": "stdout",
          "text": [
            "文件已保存到: /content/drive/My Drive/BAAI/train-00000-of-00015_2025-04-22.parquet\n"
          ]
        }
      ]
    }
  ]
}